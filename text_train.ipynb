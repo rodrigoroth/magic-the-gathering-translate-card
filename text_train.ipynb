{
 "cells": [
  {
   "cell_type": "code",
   "execution_count": 36,
   "metadata": {
    "collapsed": true
   },
   "outputs": [],
   "source": [
    "import re\n",
    "from textblob.en import Spelling\n",
    "\n",
    "textfinal = \"\"\n",
    "\n",
    "with open(\"/home/rodrigo/Downloads/All Sets-2018-05-21.txt\",\"rb\") as f1:\n",
    "\ttextfinal = f1.read()"
   ]
  },
  {
   "cell_type": "code",
   "execution_count": 37,
   "outputs": [],
   "source": [
    "textfinal = bytes(textfinal)\n",
    "textfinal = textfinal.decode(\"ISO-8859-1\")\n",
    "words = re.findall(\"[a-zA-Z]+\", textfinal)\n",
    "oneString = \" \".join(words)"
   ],
   "metadata": {
    "collapsed": false,
    "pycharm": {
     "name": "#%%\n"
    }
   }
  },
  {
   "cell_type": "code",
   "execution_count": 38,
   "outputs": [],
   "source": [
    "pathToFile = \"/home/rodrigo/Downloads/train_magic.txt\"\n",
    "spelling = Spelling(path = pathToFile)\n",
    "test_final = spelling.train(oneString, pathToFile)"
   ],
   "metadata": {
    "collapsed": false,
    "pycharm": {
     "name": "#%%\n"
    }
   }
  },
  {
   "cell_type": "code",
   "execution_count": 38,
   "outputs": [],
   "source": [],
   "metadata": {
    "collapsed": false,
    "pycharm": {
     "name": "#%%\n"
    }
   }
  }
 ],
 "metadata": {
  "kernelspec": {
   "display_name": "Python 3",
   "language": "python",
   "name": "python3"
  },
  "language_info": {
   "codemirror_mode": {
    "name": "ipython",
    "version": 2
   },
   "file_extension": ".py",
   "mimetype": "text/x-python",
   "name": "python",
   "nbconvert_exporter": "python",
   "pygments_lexer": "ipython2",
   "version": "2.7.6"
  }
 },
 "nbformat": 4,
 "nbformat_minor": 0
}